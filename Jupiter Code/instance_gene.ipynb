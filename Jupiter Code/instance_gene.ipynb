{
 "cells": [
  {
   "cell_type": "code",
   "execution_count": 1,
   "id": "055a7b1d",
   "metadata": {},
   "outputs": [],
   "source": [
    "import numpy as np\n",
    "import struct\n",
    "import os\n",
    "import pandas as pd"
   ]
  },
  {
   "cell_type": "code",
   "execution_count": 2,
   "id": "fd5c8173",
   "metadata": {},
   "outputs": [],
   "source": [
    "# Function to sample a smaller dataset from a larger dataset\n",
    "# instance_size: the size of output dataset would be\n",
    "# input_df: the dataset will be sampled (the larger dataset)\n",
    "# index: the number of the smaller dataset would be (can be used to sample multiple small dataset)\n",
    "def instance_gene(instance_size, input_df, index):\n",
    "    inst_gene = input_df.sample(n=instance_size)\n",
    "    \n",
    "    # filePath: output file path (user may change it by preference)\n",
    "    # fileName: output file name (user may change it by preference)\n",
    "    filePath = 'PR_DATA_instance/'\n",
    "    fileName = 'instance-' + str(index) + '-' + str(instance_size) + '.csv'\n",
    "    completeFileName = os.path.join(filePath, fileName)\n",
    "    \n",
    "    labels = input_df.columns\n",
    "    inst_gene.to_csv(completeFileName, index_label=labels, index=False)\n",
    "    return inst_gene"
   ]
  },
  {
   "cell_type": "code",
   "execution_count": 6,
   "id": "43bb2f2e",
   "metadata": {},
   "outputs": [],
   "source": [
    "def main():\n",
    "    # instance_sizes: output dataset size(user may change it by preference)\n",
    "    # geo_df: input dataset information (user may change it by preference/need)\n",
    "    instance_sizes = [50, 40, 30, 20]\n",
    "    geo_df = pd.read_excel(r'PR_DATA.xlsx')\n",
    "    \n",
    "    # main loop to to sample a sequence of smaller datasets from a larger dataset\n",
    "    for i in range(5):\n",
    "        input_instance = geo_df\n",
    "        for ele in instance_sizes:\n",
    "            output_instance = instance_gene(ele, input_instance, i)\n",
    "            input_instance = output_instance\n",
    "\n",
    "if __name__ == \"__main__\":\n",
    "    main()"
   ]
  }
 ],
 "metadata": {
  "kernelspec": {
   "display_name": "Python 3 (ipykernel)",
   "language": "python",
   "name": "python3"
  },
  "language_info": {
   "codemirror_mode": {
    "name": "ipython",
    "version": 3
   },
   "file_extension": ".py",
   "mimetype": "text/x-python",
   "name": "python",
   "nbconvert_exporter": "python",
   "pygments_lexer": "ipython3",
   "version": "3.9.13"
  }
 },
 "nbformat": 4,
 "nbformat_minor": 5
}
